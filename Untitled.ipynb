{
 "cells": [
  {
   "cell_type": "code",
   "execution_count": 1,
   "metadata": {},
   "outputs": [
    {
     "name": "stdout",
     "output_type": "stream",
     "text": [
      "Package            Version\n",
      "------------------ -------\n",
      "appnope            0.1.0  \n",
      "attrs              19.1.0 \n",
      "backcall           0.1.0  \n",
      "bleach             3.1.0  \n",
      "decorator          4.4.0  \n",
      "defusedxml         0.5.0  \n",
      "entrypoints        0.3    \n",
      "flake8             3.7.7  \n",
      "ipykernel          5.1.0  \n",
      "ipython            7.3.0  \n",
      "ipython-genutils   0.2.0  \n",
      "ipywidgets         7.4.2  \n",
      "jedi               0.13.3 \n",
      "Jinja2             2.10   \n",
      "jsonschema         3.0.1  \n",
      "jupyter            1.0.0  \n",
      "jupyter-client     5.2.4  \n",
      "jupyter-console    6.0.0  \n",
      "jupyter-core       4.4.0  \n",
      "MarkupSafe         1.1.1  \n",
      "mccabe             0.6.1  \n",
      "mistune            0.8.4  \n",
      "nbconvert          5.4.1  \n",
      "nbformat           4.4.0  \n",
      "notebook           5.7.6  \n",
      "numpy              1.14.5 \n",
      "pandocfilters      1.4.2  \n",
      "parso              0.3.4  \n",
      "pexpect            4.6.0  \n",
      "pickleshare        0.7.5  \n",
      "pip                19.0.3 \n",
      "prometheus-client  0.6.0  \n",
      "prompt-toolkit     2.0.9  \n",
      "ptyprocess         0.6.0  \n",
      "pycodestyle        2.5.0  \n",
      "pyflakes           2.1.1  \n",
      "Pygments           2.3.1  \n",
      "pyrsistent         0.14.11\n",
      "python-dateutil    2.8.0  \n",
      "pyzmq              18.0.1 \n",
      "qtconsole          4.4.3  \n",
      "Send2Trash         1.5.0  \n",
      "setuptools         39.0.1 \n",
      "six                1.12.0 \n",
      "terminado          0.8.1  \n",
      "testpath           0.4.2  \n",
      "tornado            6.0.1  \n",
      "traitlets          4.3.2  \n",
      "wcwidth            0.1.7  \n",
      "webencodings       0.5.1  \n",
      "widgetsnbextension 3.4.2  \n",
      "Note: you may need to restart the kernel to use updated packages.\n"
     ]
    }
   ],
   "source": [
    "pip list"
   ]
  },
  {
   "cell_type": "code",
   "execution_count": 2,
   "metadata": {},
   "outputs": [
    {
     "name": "stdout",
     "output_type": "stream",
     "text": [
      "Collecting scipy==1.1.0\n",
      "\u001b[?25l  Downloading https://files.pythonhosted.org/packages/a0/b6/70bf61c1badb5fea82d4c558e05e76c2dee5e77bb072fe465d7c7a87287d/scipy-1.1.0-cp36-cp36m-macosx_10_6_intel.macosx_10_9_intel.macosx_10_9_x86_64.macosx_10_10_intel.macosx_10_10_x86_64.whl (16.7MB)\n",
      "\u001b[K    100% |████████████████████████████████| 16.7MB 1.1MB/s ta 0:00:011  11% |███▋                            | 1.9MB 5.6MB/s eta 0:00:03\n",
      "\u001b[?25hRequirement already satisfied: numpy>=1.8.2 in ./lib/python3.6/site-packages (from scipy==1.1.0) (1.14.5)\n",
      "Installing collected packages: scipy\n",
      "Successfully installed scipy-1.1.0\n",
      "Note: you may need to restart the kernel to use updated packages.\n"
     ]
    }
   ],
   "source": [
    "pip install scipy==1.1.0"
   ]
  },
  {
   "cell_type": "code",
   "execution_count": 3,
   "metadata": {},
   "outputs": [
    {
     "name": "stdout",
     "output_type": "stream",
     "text": [
      "Collecting pandas==0.23.3\n",
      "\u001b[?25l  Downloading https://files.pythonhosted.org/packages/d8/ba/d2c6578afca709e211ac1cd836a66a6a042f1a773a970be345d9d08be426/pandas-0.23.3-cp36-cp36m-macosx_10_6_intel.macosx_10_9_intel.macosx_10_9_x86_64.macosx_10_10_intel.macosx_10_10_x86_64.whl (14.0MB)\n",
      "\u001b[K    100% |████████████████████████████████| 14.0MB 1.6MB/s ta 0:00:011   18% |█████▉                          | 2.6MB 12.2MB/s eta 0:00:01\n",
      "\u001b[?25hRequirement already satisfied: numpy>=1.9.0 in ./lib/python3.6/site-packages (from pandas==0.23.3) (1.14.5)\n",
      "Collecting pytz>=2011k (from pandas==0.23.3)\n",
      "  Using cached https://files.pythonhosted.org/packages/61/28/1d3920e4d1d50b19bc5d24398a7cd85cc7b9a75a490570d5a30c57622d34/pytz-2018.9-py2.py3-none-any.whl\n",
      "Requirement already satisfied: python-dateutil>=2.5.0 in ./lib/python3.6/site-packages (from pandas==0.23.3) (2.8.0)\n",
      "Requirement already satisfied: six>=1.5 in ./lib/python3.6/site-packages (from python-dateutil>=2.5.0->pandas==0.23.3) (1.12.0)\n",
      "Installing collected packages: pytz, pandas\n",
      "Successfully installed pandas-0.23.3 pytz-2018.9\n",
      "Note: you may need to restart the kernel to use updated packages.\n"
     ]
    }
   ],
   "source": [
    "pip install pandas==0.23.3"
   ]
  },
  {
   "cell_type": "code",
   "execution_count": 4,
   "metadata": {},
   "outputs": [
    {
     "name": "stdout",
     "output_type": "stream",
     "text": [
      "Collecting matplotlib==2.2.2\n",
      "\u001b[?25l  Downloading https://files.pythonhosted.org/packages/8a/d5/5337662b714c65100f3545ed3909e9478614d1ebf1f692a52981f3f5167b/matplotlib-2.2.2-cp36-cp36m-macosx_10_6_intel.macosx_10_9_intel.macosx_10_9_x86_64.macosx_10_10_intel.macosx_10_10_x86_64.whl (13.7MB)\n",
      "\u001b[K    100% |████████████████████████████████| 13.7MB 1.5MB/s ta 0:00:011\n",
      "\u001b[?25hCollecting cycler>=0.10 (from matplotlib==2.2.2)\n",
      "  Using cached https://files.pythonhosted.org/packages/f7/d2/e07d3ebb2bd7af696440ce7e754c59dd546ffe1bbe732c8ab68b9c834e61/cycler-0.10.0-py2.py3-none-any.whl\n",
      "Collecting pyparsing!=2.0.4,!=2.1.2,!=2.1.6,>=2.0.1 (from matplotlib==2.2.2)\n",
      "  Using cached https://files.pythonhosted.org/packages/de/0a/001be530836743d8be6c2d85069f46fecf84ac6c18c7f5fb8125ee11d854/pyparsing-2.3.1-py2.py3-none-any.whl\n",
      "Requirement already satisfied: pytz in ./lib/python3.6/site-packages (from matplotlib==2.2.2) (2018.9)\n",
      "Collecting kiwisolver>=1.0.1 (from matplotlib==2.2.2)\n",
      "\u001b[?25l  Downloading https://files.pythonhosted.org/packages/fb/96/619db9bf08f652790fa9f3c3884a67dc43da4bdaa185a5aa2117eb4651e1/kiwisolver-1.0.1-cp36-cp36m-macosx_10_6_intel.macosx_10_9_intel.macosx_10_9_x86_64.macosx_10_10_intel.macosx_10_10_x86_64.whl (108kB)\n",
      "\u001b[K    100% |████████████████████████████████| 112kB 11.0MB/s ta 0:00:01\n",
      "\u001b[?25hRequirement already satisfied: numpy>=1.7.1 in ./lib/python3.6/site-packages (from matplotlib==2.2.2) (1.14.5)\n",
      "Requirement already satisfied: six>=1.10 in ./lib/python3.6/site-packages (from matplotlib==2.2.2) (1.12.0)\n",
      "Requirement already satisfied: python-dateutil>=2.1 in ./lib/python3.6/site-packages (from matplotlib==2.2.2) (2.8.0)\n",
      "Requirement already satisfied: setuptools in ./lib/python3.6/site-packages (from kiwisolver>=1.0.1->matplotlib==2.2.2) (39.0.1)\n",
      "Installing collected packages: cycler, pyparsing, kiwisolver, matplotlib\n",
      "Successfully installed cycler-0.10.0 kiwisolver-1.0.1 matplotlib-2.2.2 pyparsing-2.3.1\n",
      "Note: you may need to restart the kernel to use updated packages.\n"
     ]
    }
   ],
   "source": [
    "pip install matplotlib==2.2.2"
   ]
  },
  {
   "cell_type": "code",
   "execution_count": 5,
   "metadata": {},
   "outputs": [
    {
     "name": "stdout",
     "output_type": "stream",
     "text": [
      "Collecting scikit-learn==0.19.1\n",
      "\u001b[?25l  Downloading https://files.pythonhosted.org/packages/f0/5e/1e1576587c5a9e8de6771806a4cccea8decd268c988453cf35ccbf892929/scikit_learn-0.19.1-cp36-cp36m-macosx_10_6_intel.macosx_10_9_intel.macosx_10_9_x86_64.macosx_10_10_intel.macosx_10_10_x86_64.whl (7.6MB)\n",
      "\u001b[K    100% |████████████████████████████████| 7.6MB 2.2MB/s ta 0:00:011\n",
      "\u001b[?25hInstalling collected packages: scikit-learn\n",
      "Successfully installed scikit-learn-0.19.1\n",
      "Note: you may need to restart the kernel to use updated packages.\n"
     ]
    }
   ],
   "source": [
    "pip install scikit-learn==0.19.1"
   ]
  },
  {
   "cell_type": "code",
   "execution_count": 6,
   "metadata": {},
   "outputs": [
    {
     "name": "stdout",
     "output_type": "stream",
     "text": [
      "Collecting xlrd==1.1.0\n",
      "\u001b[?25l  Downloading https://files.pythonhosted.org/packages/07/e6/e95c4eec6221bfd8528bcc4ea252a850bffcc4be88ebc367e23a1a84b0bb/xlrd-1.1.0-py2.py3-none-any.whl (108kB)\n",
      "\u001b[K    100% |████████████████████████████████| 112kB 3.0MB/s ta 0:00:01\n",
      "\u001b[?25hInstalling collected packages: xlrd\n",
      "Successfully installed xlrd-1.1.0\n",
      "Note: you may need to restart the kernel to use updated packages.\n"
     ]
    }
   ],
   "source": [
    "pip install xlrd==1.1.0"
   ]
  },
  {
   "cell_type": "code",
   "execution_count": 7,
   "metadata": {},
   "outputs": [
    {
     "name": "stdout",
     "output_type": "stream",
     "text": [
      "Collecting openpyxl==2.5.4\n",
      "\u001b[?25l  Downloading https://files.pythonhosted.org/packages/f6/13/3c1263b852377738eaa60f99602fb58cc8ad2fd1badb0b724b0d5b532727/openpyxl-2.5.4.tar.gz (170kB)\n",
      "\u001b[K    100% |████████████████████████████████| 174kB 3.5MB/s ta 0:00:01\n",
      "\u001b[?25hCollecting jdcal (from openpyxl==2.5.4)\n",
      "  Downloading https://files.pythonhosted.org/packages/a0/38/dcf83532480f25284f3ef13f8ed63e03c58a65c9d3ba2a6a894ed9497207/jdcal-1.4-py2.py3-none-any.whl\n",
      "Collecting et_xmlfile (from openpyxl==2.5.4)\n",
      "  Downloading https://files.pythonhosted.org/packages/22/28/a99c42aea746e18382ad9fb36f64c1c1f04216f41797f2f0fa567da11388/et_xmlfile-1.0.1.tar.gz\n",
      "Installing collected packages: jdcal, et-xmlfile, openpyxl\n",
      "  Running setup.py install for et-xmlfile ... \u001b[?25ldone\n",
      "\u001b[?25h  Running setup.py install for openpyxl ... \u001b[?25ldone\n",
      "\u001b[?25hSuccessfully installed et-xmlfile-1.0.1 jdcal-1.4 openpyxl-2.5.4\n",
      "Note: you may need to restart the kernel to use updated packages.\n"
     ]
    }
   ],
   "source": [
    "pip install openpyxl==2.5.4"
   ]
  },
  {
   "cell_type": "code",
   "execution_count": 8,
   "metadata": {},
   "outputs": [
    {
     "name": "stdout",
     "output_type": "stream",
     "text": [
      "Collecting lxml==4.2.3\n",
      "\u001b[?25l  Downloading https://files.pythonhosted.org/packages/00/fd/5e65f293e366a63198dade275b886e5d24752367c2e67e3993023b0d58ef/lxml-4.2.3-cp36-cp36m-macosx_10_6_intel.macosx_10_9_intel.macosx_10_9_x86_64.macosx_10_10_intel.macosx_10_10_x86_64.whl (8.7MB)\n",
      "\u001b[K    100% |████████████████████████████████| 8.7MB 2.3MB/s ta 0:00:011    70% |██████████████████████▋         | 6.2MB 5.6MB/s eta 0:00:01\n",
      "\u001b[?25hInstalling collected packages: lxml\n",
      "Successfully installed lxml-4.2.3\n",
      "Note: you may need to restart the kernel to use updated packages.\n"
     ]
    }
   ],
   "source": [
    "pip install lxml==4.2.3"
   ]
  },
  {
   "cell_type": "code",
   "execution_count": 9,
   "metadata": {},
   "outputs": [
    {
     "name": "stdout",
     "output_type": "stream",
     "text": [
      "Package            Version\n",
      "------------------ -------\n",
      "appnope            0.1.0  \n",
      "attrs              19.1.0 \n",
      "backcall           0.1.0  \n",
      "bleach             3.1.0  \n",
      "cycler             0.10.0 \n",
      "decorator          4.4.0  \n",
      "defusedxml         0.5.0  \n",
      "entrypoints        0.3    \n",
      "et-xmlfile         1.0.1  \n",
      "flake8             3.7.7  \n",
      "ipykernel          5.1.0  \n",
      "ipython            7.3.0  \n",
      "ipython-genutils   0.2.0  \n",
      "ipywidgets         7.4.2  \n",
      "jdcal              1.4    \n",
      "jedi               0.13.3 \n",
      "Jinja2             2.10   \n",
      "jsonschema         3.0.1  \n",
      "jupyter            1.0.0  \n",
      "jupyter-client     5.2.4  \n",
      "jupyter-console    6.0.0  \n",
      "jupyter-core       4.4.0  \n",
      "kiwisolver         1.0.1  \n",
      "lxml               4.2.3  \n",
      "MarkupSafe         1.1.1  \n",
      "matplotlib         2.2.2  \n",
      "mccabe             0.6.1  \n",
      "mistune            0.8.4  \n",
      "nbconvert          5.4.1  \n",
      "nbformat           4.4.0  \n",
      "notebook           5.7.6  \n",
      "numpy              1.14.5 \n",
      "openpyxl           2.5.4  \n",
      "pandas             0.23.3 \n",
      "pandocfilters      1.4.2  \n",
      "parso              0.3.4  \n",
      "pexpect            4.6.0  \n",
      "pickleshare        0.7.5  \n",
      "pip                19.0.3 \n",
      "prometheus-client  0.6.0  \n",
      "prompt-toolkit     2.0.9  \n",
      "ptyprocess         0.6.0  \n",
      "pycodestyle        2.5.0  \n",
      "pyflakes           2.1.1  \n",
      "Pygments           2.3.1  \n",
      "pyparsing          2.3.1  \n",
      "pyrsistent         0.14.11\n",
      "python-dateutil    2.8.0  \n",
      "pytz               2018.9 \n",
      "pyzmq              18.0.1 \n",
      "qtconsole          4.4.3  \n",
      "scikit-learn       0.19.1 \n",
      "scipy              1.1.0  \n",
      "Send2Trash         1.5.0  \n",
      "setuptools         39.0.1 \n",
      "six                1.12.0 \n",
      "terminado          0.8.1  \n",
      "testpath           0.4.2  \n",
      "tornado            6.0.1  \n",
      "traitlets          4.3.2  \n",
      "wcwidth            0.1.7  \n",
      "webencodings       0.5.1  \n",
      "widgetsnbextension 3.4.2  \n",
      "xlrd               1.1.0  \n",
      "Note: you may need to restart the kernel to use updated packages.\n"
     ]
    }
   ],
   "source": [
    "pip list"
   ]
  },
  {
   "cell_type": "code",
   "execution_count": null,
   "metadata": {},
   "outputs": [],
   "source": []
  }
 ],
 "metadata": {
  "kernelspec": {
   "display_name": "Python 3",
   "language": "python",
   "name": "python3"
  },
  "language_info": {
   "codemirror_mode": {
    "name": "ipython",
    "version": 3
   },
   "file_extension": ".py",
   "mimetype": "text/x-python",
   "name": "python",
   "nbconvert_exporter": "python",
   "pygments_lexer": "ipython3",
   "version": "3.6.6"
  }
 },
 "nbformat": 4,
 "nbformat_minor": 2
}
